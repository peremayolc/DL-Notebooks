{
  "cells": [
    {
      "cell_type": "markdown",
      "metadata": {
        "id": "-JGr-h1xvTOZ"
      },
      "source": [
        "# MNIST Simple Pointer Network\n",
        "\n",
        "In this notebook we will learn how to create a simple [Pointer Network](https://arxiv.org/abs/1506.03134) (Vinyals et al. 2015) for solving a dummy task on the MNIST dataset.\n",
        "\n",
        "A Pointer Network uses the **attention mechanism’s** output to model the conditional probability of each element on its input. This can be extremely useful in tasks that require selecting one (or more) elements of the input sequence/set to be solved.\n",
        "\n",
        "In this notebook we will play with a simple Pointer net to solve the following task: Given an MNIST image with a (query) digit we want our model to find the image that contains the consecutive digit to the query image among a set of input images. For example, imagine we use an image with the digit \"5\" as query and let the input of the model be a set of 10 images with different digits, the output of our model must be a probability distribution over those 10 images indicating the presence or not of the digit \"6\" in each of them."
      ]
    },
    {
      "cell_type": "code",
      "execution_count": 24,
      "metadata": {
        "id": "h4Z7-Wm7_5K6",
        "colab": {
          "base_uri": "https://localhost:8080/"
        },
        "outputId": "41d94f89-b76e-415d-e743-2bcf7c8fe143"
      },
      "outputs": [
        {
          "output_type": "stream",
          "name": "stdout",
          "text": [
            "PyTorch Version:  2.2.1+cu121\n"
          ]
        }
      ],
      "source": [
        "import torch\n",
        "import torchvision\n",
        "import torch.nn as nn\n",
        "import torch.optim as optim\n",
        "import numpy as np\n",
        "from torch.utils.data import Dataset, DataLoader\n",
        "\n",
        "import matplotlib.pyplot as plt\n",
        "from collections import Counter\n",
        "import time\n",
        "import os\n",
        "import copy\n",
        "print(\"PyTorch Version: \",torch.__version__)"
      ]
    },
    {
      "cell_type": "code",
      "execution_count": 25,
      "metadata": {
        "id": "RNJh2q4lQGYF",
        "colab": {
          "base_uri": "https://localhost:8080/"
        },
        "outputId": "b72fb445-7ad5-40cf-ff55-353a06986d2c"
      },
      "outputs": [
        {
          "output_type": "stream",
          "name": "stdout",
          "text": [
            "Using device: cuda\n"
          ]
        }
      ],
      "source": [
        "#If this cell fails you need to change the runtime of your colab notebook to GPU\n",
        "# Go to Runtime -> Change Runtime Type and select GPU\n",
        "assert torch.cuda.is_available(), \"GPU is not enabled\"\n",
        "\n",
        "#  use gpu if available\n",
        "device = torch.device(\"cuda\" if torch.cuda.is_available() else \"cpu\")\n",
        "print(\"Using device:\", device)"
      ]
    },
    {
      "cell_type": "markdown",
      "metadata": {
        "id": "CyM0DXter9Mp"
      },
      "source": [
        "### Create the dataset\n",
        "\n",
        "Let's start creating a Dataset class to understand better the task we want to solve. Each sample in out dataset will be formed by:\n",
        "\n",
        "* a query image\n",
        "* a set of 10 images, 9 of them selected randomly (distractors) and one selected as the consecutive digit of the digit in the query image.\n",
        "* the ground truth: a 10-D one hot vector indicating the position of the image we want our model to select (\"point to\")."
      ]
    },
    {
      "cell_type": "code",
      "execution_count": 26,
      "metadata": {
        "id": "XksdVS7GHWw0"
      },
      "outputs": [],
      "source": [
        "class MNISTAttentionDataset(Dataset):\n",
        "    \"\"\"MNIST attention toy dataset.\"\"\"\n",
        "\n",
        "    def __init__(self, num_inputs, train=True):\n",
        "        \"\"\"\n",
        "        Args:\n",
        "            num_inputs (int) - The number of images in the input of our model.\n",
        "            train (bool, optional) – If True, creates dataset from MNIST training\n",
        "                samples, otherwise from test\n",
        "        \"\"\"\n",
        "\n",
        "        self.num_inputs = num_inputs\n",
        "        self.mnist = torchvision.datasets.MNIST('../data', train=train, download=True)\n",
        "\n",
        "        # dict with samples for each class label\n",
        "        self.data = {}\n",
        "        for label in range(10):\n",
        "            #Collect in separate lists the different digits, and normalise values to [0, 1]\n",
        "            self.data[label] = self.mnist.data[self.mnist.targets == label] / 255.0\n",
        "\n",
        "\n",
        "\n",
        "    def __len__(self):\n",
        "        # The length makes little sense here, as we generate samples dynamically\n",
        "        # Here we return the number of images originally in the dataset\n",
        "        return self.mnist.data.shape[0]\n",
        "\n",
        "    def __getitem__(self, idx):\n",
        "        \"\"\"\n",
        "        Args:\n",
        "            idx (int) - an index indicating which digit should be used as query\n",
        "        \"\"\"\n",
        "        c = self.mnist.targets[idx].item()     # Find out which is the class of the digit requested\n",
        "        query = self.mnist.data[idx].flatten() / 255.0 # Get the data for the digit requested\n",
        "\n",
        "        correct_pos = np.random.randint(0, self.num_inputs) # Decide on a random position where the correct answer will be\n",
        "\n",
        "        inputs = np.zeros((self.num_inputs, 784)) # Create an array to hold the inputs (from which we have to select one)\n",
        "        for j in range(self.num_inputs):\n",
        "            if j == correct_pos: # In the correct position, place a random digit that comes from the c+1 class\n",
        "                idx = np.random.randint(0,self.data[(c+1)%10].shape[0])\n",
        "                inputs[j,:] = self.data[(c+1)%10][idx,:].flatten()\n",
        "            else: # In the rest of the positions, place random digits that come from the rest of the classes\n",
        "                c_distractor = np.random.choice([n for n in [0,1,2,3,4,5,6,7,8,9] if n!=(c+1)%10])\n",
        "                idx = np.random.randint(0,self.data[c_distractor].shape[0])\n",
        "                inputs[j,:] = self.data[c_distractor][idx,:].flatten()\n",
        "\n",
        "        sample = {'x': inputs, 'query': query, 'y': correct_pos}\n",
        "\n",
        "        return sample"
      ]
    },
    {
      "cell_type": "code",
      "execution_count": 27,
      "metadata": {
        "id": "hL2kwN-kpjUc"
      },
      "outputs": [],
      "source": [
        "num_inputs = 10\n",
        "\n",
        "train_dataset = MNISTAttentionDataset(num_inputs, train=True)\n",
        "test_dataset = MNISTAttentionDataset(num_inputs, train=False)\n",
        "\n",
        "train_loader = DataLoader(train_dataset, batch_size = 64, shuffle = True)\n",
        "test_loader  = DataLoader(test_dataset, batch_size = 1000, shuffle = False)"
      ]
    },
    {
      "cell_type": "markdown",
      "metadata": {
        "id": "RES5R0CMr3bE"
      },
      "source": [
        "### Visualize one training sample"
      ]
    },
    {
      "cell_type": "code",
      "execution_count": 28,
      "metadata": {
        "id": "fJY6zR_lqR41",
        "colab": {
          "base_uri": "https://localhost:8080/",
          "height": 181
        },
        "outputId": "e32d2fd8-9b6b-4377-9255-72abc4b1872e"
      },
      "outputs": [
        {
          "output_type": "stream",
          "name": "stdout",
          "text": [
            "Data: (10, 784), Query: torch.Size([784])\n"
          ]
        },
        {
          "output_type": "display_data",
          "data": {
            "text/plain": [
              "<Figure size 3300x300 with 11 Axes>"
            ],
            "image/png": "[encoded data removed]"
          },
          "metadata": {}
        }
      ],
      "source": [
        "sample = train_dataset[0]\n",
        "\n",
        "print(f\"Data: {sample['x'].shape}, Query: {sample['query'].shape}\")\n",
        "\n",
        "fig = plt.figure(figsize=(33, 3))\n",
        "plt.tight_layout()\n",
        "\n",
        "ax = plt.subplot(1, num_inputs + 1, 1)\n",
        "image = sample['query'].reshape(28,28)\n",
        "plt.imshow(image, cmap='gray')\n",
        "plt.plot([0,27,27,0,0], [0,0,27,27,0], c='b') # Draw a blue box around the query sample\n",
        "ax.set_title('Query')\n",
        "ax.axis('off')\n",
        "\n",
        "for i in range(num_inputs):\n",
        "    ax = plt.subplot(1, num_inputs + 1, i+2)\n",
        "    ax.set_title('Sample #{}'.format(i))\n",
        "    ax.axis('off')\n",
        "    image = sample['x'][i].reshape(28,28)\n",
        "    plt.imshow(image, cmap='gray')\n",
        "    if i == sample['y']:\n",
        "        plt.plot([0,27,27,0,0], [0,0,27,27,0], c='g') # Draw a green box around the correct sample\n",
        "        ax.set_title('Target')\n",
        "    else:\n",
        "        plt.plot([0,27,27,0,0], [0,0,27,27,0], c='r') # Draw a blue box around the wrong sample\n",
        "        ax.set_title('Distractor #{}'.format(i))\n",
        "    ax.axis('off')\n",
        "\n",
        "plt.show()"
      ]
    },
    {
      "cell_type": "markdown",
      "metadata": {
        "id": "DVaMM-n2sFF6"
      },
      "source": [
        "### Create the model"
      ]
    },
    {
      "cell_type": "code",
      "execution_count": 29,
      "metadata": {
        "id": "BesD8B1BAW9u"
      },
      "outputs": [],
      "source": [
        "class AttentionModel(nn.Module):\n",
        "    def __init__(self, input_dim, num_inputs, hidden_dim):\n",
        "        super(AttentionModel, self).__init__()\n",
        "        self.hidden_dim = hidden_dim\n",
        "        self.num_inputs = num_inputs\n",
        "        self.input_dim  = input_dim\n",
        "\n",
        "        # Weights (Fully Connected layers)\n",
        "        self.fc_q = nn.Linear(input_dim, hidden_dim) # Query FC\n",
        "        self.fc_k = nn.Linear(input_dim, hidden_dim) # Keys FC. Here the input acts as the keys, and there is no value\n",
        "        self.fc_v = nn.Linear(hidden_dim, 1) # Values FC\n",
        "\n",
        "    def scoringAdditive(self, query, keys):\n",
        "        # Query is                                              (B X 1 X input_dim)\n",
        "        # Repeat (tile) the query so that it has the same size as the keys (input)\n",
        "        query = query.repeat(1, self.num_inputs, 1)           # (B X num_inputs X input_dim)\n",
        "        query = torch.tanh(self.fc_q(query))                  # (B X num_inputs X hidden_dim)\n",
        "\n",
        "        # Keys is                                               (B X num_inputs X input_dim)\n",
        "        keys = torch.tanh(self.fc_k(keys))                    # (B X num_inputs X hidden_dim)\n",
        "\n",
        "        # Attention Score\n",
        "        score = torch.tanh(query + keys )                     # (B X num_inputs X hidden_dim)\n",
        "        score = self.fc_v(score)                              # (B X num_inputs X 1)\n",
        "        return score\n",
        "\n",
        "    def forward(self, x, query):\n",
        "        query = query.unsqueeze(1) # (B x input_dim) -> (B x 1 x input_dim)\n",
        "\n",
        "        # Calculate attention scores\n",
        "        output = self.scoringAdditive(query, x)\n",
        "        output = output.squeeze()       # (B x 1 x num_inputs) -> (B x num_inputs)\n",
        "        return output"
      ]
    },
    {
      "cell_type": "markdown",
      "metadata": {
        "id": "y_yCyvgg9Pbj"
      },
      "source": [
        "<font color=\"blue\">\n",
        "\n",
        "**QUESTION**: The Additive score gives logits that we should pass through a softmax to get the final attention weights. Why is there no softmax in the model above?</font>"
      ]
    },
    {
      "cell_type": "markdown",
      "metadata": {
        "id": "STKNDGI0jrck"
      },
      "source": [
        "---\n",
        "    \n",
        "**ANSWER**: This is due to how pytorch works and that the Entropy Loss calculates the Softmax so if you include it in the model it would be calculated twice.\n",
        "\n",
        "---"
      ]
    },
    {
      "cell_type": "code",
      "execution_count": 30,
      "metadata": {
        "id": "nsyUZE0lHJ5-",
        "colab": {
          "base_uri": "https://localhost:8080/"
        },
        "outputId": "ef9356d5-fa3c-467f-da60-6f2ed360ab65"
      },
      "outputs": [
        {
          "output_type": "stream",
          "name": "stdout",
          "text": [
            "AttentionModel(\n",
            "  (fc_q): Linear(in_features=784, out_features=256, bias=True)\n",
            "  (fc_k): Linear(in_features=784, out_features=256, bias=True)\n",
            "  (fc_v): Linear(in_features=256, out_features=1, bias=True)\n",
            ")\n"
          ]
        }
      ],
      "source": [
        "input_dim, num_inputs, hidden_dim = (784, 10, 256)\n",
        "\n",
        "model = AttentionModel(input_dim, num_inputs, hidden_dim)\n",
        "print(model)"
      ]
    },
    {
      "cell_type": "markdown",
      "metadata": {
        "id": "xmp0kuk2z3Rx"
      },
      "source": [
        "### Define the training method and train"
      ]
    },
    {
      "cell_type": "code",
      "execution_count": 31,
      "metadata": {
        "id": "6ZvGWqwDrc-V"
      },
      "outputs": [],
      "source": [
        "def train(model, device, train_loader, criterion, optimizer, epoch, log_interval = 100):\n",
        "    # Method to perform one epoch of training\n",
        "    model.train()\n",
        "    loss_values = []\n",
        "\n",
        "    for batch_idx, sample_batched in enumerate(train_loader):\n",
        "        data = sample_batched['x'].float()\n",
        "        query = sample_batched['query'].float()\n",
        "        target = sample_batched['y']\n",
        "        #print(data.shape, query.shape)\n",
        "        data, query, target = data.to(device), query.to(device), target.to(device)\n",
        "\n",
        "        optimizer.zero_grad()\n",
        "        output = model(data, query)\n",
        "        loss = criterion(output, target)\n",
        "        loss.backward()\n",
        "        optimizer.step()\n",
        "\n",
        "        loss_values.append(loss.detach().cpu().item())\n",
        "        if batch_idx % log_interval == 0:\n",
        "            print('Train Epoch: {} [{}/{} ({:.0f}%)]\\tLoss: {:.6f}'.format(\n",
        "                epoch, batch_idx * len(data), len(train_loader.dataset),\n",
        "                100. * batch_idx / len(train_loader), loss.item()))\n",
        "\n",
        "    return loss_values"
      ]
    },
    {
      "cell_type": "code",
      "execution_count": 32,
      "metadata": {
        "id": "lgBM3yl_jrcn",
        "colab": {
          "base_uri": "https://localhost:8080/"
        },
        "outputId": "85527bfa-eac4-46d9-bb27-175ea4181949"
      },
      "outputs": [
        {
          "output_type": "stream",
          "name": "stdout",
          "text": [
            "Train Epoch: 1 [0/60000 (0%)]\tLoss: 2.315512\n",
            "Train Epoch: 1 [6400/60000 (11%)]\tLoss: 1.782972\n",
            "Train Epoch: 1 [12800/60000 (21%)]\tLoss: 1.227794\n",
            "Train Epoch: 1 [19200/60000 (32%)]\tLoss: 0.763931\n",
            "Train Epoch: 1 [25600/60000 (43%)]\tLoss: 0.729699\n",
            "Train Epoch: 1 [32000/60000 (53%)]\tLoss: 0.862690\n",
            "Train Epoch: 1 [38400/60000 (64%)]\tLoss: 0.630158\n",
            "Train Epoch: 1 [44800/60000 (75%)]\tLoss: 0.461936\n",
            "Train Epoch: 1 [51200/60000 (85%)]\tLoss: 0.606689\n",
            "Train Epoch: 1 [57600/60000 (96%)]\tLoss: 0.329276\n",
            "Train Epoch: 2 [0/60000 (0%)]\tLoss: 0.467300\n",
            "Train Epoch: 2 [6400/60000 (11%)]\tLoss: 0.483526\n",
            "Train Epoch: 2 [12800/60000 (21%)]\tLoss: 0.668278\n",
            "Train Epoch: 2 [19200/60000 (32%)]\tLoss: 0.632139\n",
            "Train Epoch: 2 [25600/60000 (43%)]\tLoss: 0.426968\n",
            "Train Epoch: 2 [32000/60000 (53%)]\tLoss: 0.453815\n",
            "Train Epoch: 2 [38400/60000 (64%)]\tLoss: 0.549841\n",
            "Train Epoch: 2 [44800/60000 (75%)]\tLoss: 0.367317\n",
            "Train Epoch: 2 [51200/60000 (85%)]\tLoss: 0.351792\n",
            "Train Epoch: 2 [57600/60000 (96%)]\tLoss: 0.337973\n",
            "Train Epoch: 3 [0/60000 (0%)]\tLoss: 0.402029\n",
            "Train Epoch: 3 [6400/60000 (11%)]\tLoss: 0.356687\n",
            "Train Epoch: 3 [12800/60000 (21%)]\tLoss: 0.291383\n",
            "Train Epoch: 3 [19200/60000 (32%)]\tLoss: 0.462230\n",
            "Train Epoch: 3 [25600/60000 (43%)]\tLoss: 0.215529\n",
            "Train Epoch: 3 [32000/60000 (53%)]\tLoss: 0.330061\n",
            "Train Epoch: 3 [38400/60000 (64%)]\tLoss: 0.314238\n",
            "Train Epoch: 3 [44800/60000 (75%)]\tLoss: 0.438064\n",
            "Train Epoch: 3 [51200/60000 (85%)]\tLoss: 0.249988\n",
            "Train Epoch: 3 [57600/60000 (96%)]\tLoss: 0.340437\n",
            "Train Epoch: 4 [0/60000 (0%)]\tLoss: 0.382668\n",
            "Train Epoch: 4 [6400/60000 (11%)]\tLoss: 0.337131\n",
            "Train Epoch: 4 [12800/60000 (21%)]\tLoss: 0.298817\n",
            "Train Epoch: 4 [19200/60000 (32%)]\tLoss: 0.344335\n",
            "Train Epoch: 4 [25600/60000 (43%)]\tLoss: 0.504457\n",
            "Train Epoch: 4 [32000/60000 (53%)]\tLoss: 0.309460\n",
            "Train Epoch: 4 [38400/60000 (64%)]\tLoss: 0.211794\n",
            "Train Epoch: 4 [44800/60000 (75%)]\tLoss: 0.180707\n",
            "Train Epoch: 4 [51200/60000 (85%)]\tLoss: 0.340941\n",
            "Train Epoch: 4 [57600/60000 (96%)]\tLoss: 0.396425\n",
            "Train Epoch: 5 [0/60000 (0%)]\tLoss: 0.151957\n",
            "Train Epoch: 5 [6400/60000 (11%)]\tLoss: 0.285954\n",
            "Train Epoch: 5 [12800/60000 (21%)]\tLoss: 0.361046\n",
            "Train Epoch: 5 [19200/60000 (32%)]\tLoss: 0.191191\n",
            "Train Epoch: 5 [25600/60000 (43%)]\tLoss: 0.283163\n",
            "Train Epoch: 5 [32000/60000 (53%)]\tLoss: 0.158677\n",
            "Train Epoch: 5 [38400/60000 (64%)]\tLoss: 0.107481\n",
            "Train Epoch: 5 [44800/60000 (75%)]\tLoss: 0.355447\n",
            "Train Epoch: 5 [51200/60000 (85%)]\tLoss: 0.569951\n",
            "Train Epoch: 5 [57600/60000 (96%)]\tLoss: 0.342645\n",
            "Train Epoch: 6 [0/60000 (0%)]\tLoss: 0.357298\n",
            "Train Epoch: 6 [6400/60000 (11%)]\tLoss: 0.300746\n",
            "Train Epoch: 6 [12800/60000 (21%)]\tLoss: 0.240836\n",
            "Train Epoch: 6 [19200/60000 (32%)]\tLoss: 0.223804\n",
            "Train Epoch: 6 [25600/60000 (43%)]\tLoss: 0.308483\n",
            "Train Epoch: 6 [32000/60000 (53%)]\tLoss: 0.380047\n",
            "Train Epoch: 6 [38400/60000 (64%)]\tLoss: 0.144924\n",
            "Train Epoch: 6 [44800/60000 (75%)]\tLoss: 0.234950\n",
            "Train Epoch: 6 [51200/60000 (85%)]\tLoss: 0.215268\n",
            "Train Epoch: 6 [57600/60000 (96%)]\tLoss: 0.180870\n",
            "Train Epoch: 7 [0/60000 (0%)]\tLoss: 0.379788\n",
            "Train Epoch: 7 [6400/60000 (11%)]\tLoss: 0.243236\n",
            "Train Epoch: 7 [12800/60000 (21%)]\tLoss: 0.379417\n",
            "Train Epoch: 7 [19200/60000 (32%)]\tLoss: 0.167733\n",
            "Train Epoch: 7 [25600/60000 (43%)]\tLoss: 0.268814\n",
            "Train Epoch: 7 [32000/60000 (53%)]\tLoss: 0.327364\n",
            "Train Epoch: 7 [38400/60000 (64%)]\tLoss: 0.270881\n",
            "Train Epoch: 7 [44800/60000 (75%)]\tLoss: 0.275630\n",
            "Train Epoch: 7 [51200/60000 (85%)]\tLoss: 0.155139\n",
            "Train Epoch: 7 [57600/60000 (96%)]\tLoss: 0.347066\n",
            "Train Epoch: 8 [0/60000 (0%)]\tLoss: 0.230899\n",
            "Train Epoch: 8 [6400/60000 (11%)]\tLoss: 0.315165\n",
            "Train Epoch: 8 [12800/60000 (21%)]\tLoss: 0.288024\n",
            "Train Epoch: 8 [19200/60000 (32%)]\tLoss: 0.249006\n",
            "Train Epoch: 8 [25600/60000 (43%)]\tLoss: 0.130015\n",
            "Train Epoch: 8 [32000/60000 (53%)]\tLoss: 0.237263\n",
            "Train Epoch: 8 [38400/60000 (64%)]\tLoss: 0.355859\n",
            "Train Epoch: 8 [44800/60000 (75%)]\tLoss: 0.315996\n",
            "Train Epoch: 8 [51200/60000 (85%)]\tLoss: 0.171403\n",
            "Train Epoch: 8 [57600/60000 (96%)]\tLoss: 0.236367\n",
            "Train Epoch: 9 [0/60000 (0%)]\tLoss: 0.185003\n",
            "Train Epoch: 9 [6400/60000 (11%)]\tLoss: 0.138627\n",
            "Train Epoch: 9 [12800/60000 (21%)]\tLoss: 0.277157\n",
            "Train Epoch: 9 [19200/60000 (32%)]\tLoss: 0.117376\n",
            "Train Epoch: 9 [25600/60000 (43%)]\tLoss: 0.169011\n",
            "Train Epoch: 9 [32000/60000 (53%)]\tLoss: 0.211275\n",
            "Train Epoch: 9 [38400/60000 (64%)]\tLoss: 0.425312\n",
            "Train Epoch: 9 [44800/60000 (75%)]\tLoss: 0.349504\n",
            "Train Epoch: 9 [51200/60000 (85%)]\tLoss: 0.303124\n",
            "Train Epoch: 9 [57600/60000 (96%)]\tLoss: 0.257529\n",
            "Train Epoch: 10 [0/60000 (0%)]\tLoss: 0.257432\n",
            "Train Epoch: 10 [6400/60000 (11%)]\tLoss: 0.140586\n",
            "Train Epoch: 10 [12800/60000 (21%)]\tLoss: 0.093449\n",
            "Train Epoch: 10 [19200/60000 (32%)]\tLoss: 0.421695\n",
            "Train Epoch: 10 [25600/60000 (43%)]\tLoss: 0.272892\n",
            "Train Epoch: 10 [32000/60000 (53%)]\tLoss: 0.384188\n",
            "Train Epoch: 10 [38400/60000 (64%)]\tLoss: 0.244039\n",
            "Train Epoch: 10 [44800/60000 (75%)]\tLoss: 0.233174\n",
            "Train Epoch: 10 [51200/60000 (85%)]\tLoss: 0.234174\n",
            "Train Epoch: 10 [57600/60000 (96%)]\tLoss: 0.242064\n"
          ]
        }
      ],
      "source": [
        "model = model.to(device)\n",
        "\n",
        "optimizer = optim.Adam(model.parameters())\n",
        "\n",
        "criterion = nn.CrossEntropyLoss()\n",
        "\n",
        "epochs = 10\n",
        "\n",
        "loss_history = []\n",
        "for epoch in range(1, epochs + 1):\n",
        "    loss_values = train(model, device, train_loader, criterion, optimizer, epoch)\n",
        "    loss_history += loss_values"
      ]
    },
    {
      "cell_type": "code",
      "execution_count": 33,
      "metadata": {
        "id": "BD1phJE7jrcn",
        "colab": {
          "base_uri": "https://localhost:8080/",
          "height": 450
        },
        "outputId": "4cd351b1-b857-47d2-ea1f-5c4663630ad5"
      },
      "outputs": [
        {
          "output_type": "execute_result",
          "data": {
            "text/plain": [
              "[<matplotlib.lines.Line2D at 0x7ab206f93250>]"
            ]
          },
          "metadata": {},
          "execution_count": 33
        },
        {
          "output_type": "display_data",
          "data": {
            "text/plain": [
              "<Figure size 640x480 with 1 Axes>"
            ],
            "image/png": "[encoded data removed]"
          },
          "metadata": {}
        }
      ],
      "source": [
        "plt.plot(loss_history)"
      ]
    },
    {
      "cell_type": "markdown",
      "metadata": {
        "id": "jONlgxyaEwC6"
      },
      "source": [
        "### Evaluate the trained model"
      ]
    },
    {
      "cell_type": "code",
      "execution_count": 34,
      "metadata": {
        "id": "izgtCdk5DV01"
      },
      "outputs": [],
      "source": [
        "def evaluate(model, device, test_loader):\n",
        "    model.eval()\n",
        "    total = 0.\n",
        "    ok = 0.\n",
        "    for batch_idx, sample_batched in enumerate(test_loader):\n",
        "        data = sample_batched['x'].float()\n",
        "        query = sample_batched['query'].float()\n",
        "        target = sample_batched['y'].numpy()\n",
        "        data, query = data.to(device), query.to(device)\n",
        "\n",
        "        output = model(data, query)\n",
        "        pred = np.argmax(output.detach().cpu().numpy(), axis=1)\n",
        "\n",
        "        ok += np.sum(pred == target)\n",
        "        total += len(test_loader)\n",
        "\n",
        "    print('Accuracy = ', ok/total)"
      ]
    },
    {
      "cell_type": "code",
      "execution_count": 35,
      "metadata": {
        "id": "Osykr92Yjrcp",
        "colab": {
          "base_uri": "https://localhost:8080/"
        },
        "outputId": "bb3c65cb-2bc8-49a7-a8e4-f5520905059d"
      },
      "outputs": [
        {
          "output_type": "stream",
          "name": "stdout",
          "text": [
            "Accuracy =  91.61\n"
          ]
        }
      ],
      "source": [
        "evaluate(model, device, test_loader)"
      ]
    },
    {
      "cell_type": "markdown",
      "metadata": {
        "id": "CaOoDxjhhjxz"
      },
      "source": [
        "<font color=\"blue\">\n",
        "\n",
        "**EXERCISE 1**: Starting from the previous model as a template, implement the Dot-product Attention scoring function and substitute the additive one we were using before. Retrain and evalute the model.</font>\n",
        "\n",
        "<font color=\"blue\">\n",
        "\n",
        "> Hint: To transpose a tensor along specific dimensions you can use `torch.permute()`\n",
        "</font>\n",
        "\n",
        "\n",
        "<font color=\"blue\">\n",
        "\n",
        "> Hint: To perform a batch matrix-matrix product, use the function `torch.bmm()` https://pytorch.org/docs/stable/generated/torch.bmm.html\n",
        "</font>"
      ]
    },
    {
      "cell_type": "code",
      "execution_count": 18,
      "metadata": {
        "id": "5kmVFRaM0g8O"
      },
      "outputs": [],
      "source": [
        "#Rewrite the model.\n",
        "class AttentionModelDot(nn.Module):\n",
        "    def __init__(self, input_dim, num_inputs, hidden_dim):\n",
        "        super(AttentionModelDot, self).__init__()\n",
        "        self.hidden_dim = hidden_dim\n",
        "        self.num_inputs = num_inputs\n",
        "        self.input_dim  = input_dim\n",
        "\n",
        "        # Weights (Fully Connected layers)\n",
        "        self.fc_q = nn.Linear(input_dim, hidden_dim) # Query FC\n",
        "        self.fc_k = nn.Linear(input_dim, hidden_dim) # Keys FC. Here the input acts as the keys, and there is no value\n",
        "        self.fc_v = nn.Linear(hidden_dim, 1) # Values FC\n",
        "\n",
        "    def scoring_dotproduct(self, query, keys):\n",
        "        # Query is                                              (B X 1 X input_dim)\n",
        "        # Repeat (tile) the query so that it has the same size as the keys (input)\n",
        "        query = torch.tanh(self.fc_q(query))                  # (B X num_inputs X hidden_dim)\n",
        "\n",
        "        # Keys is                                               (B X num_inputs X input_dim)\n",
        "        keys = torch.tanh(self.fc_k(keys))\n",
        "        keys_transposed = keys.permute(0,2,1) #transpose keys.\n",
        "\n",
        "        # Attention Score\n",
        "        score = torch.bmm(query, keys_transposed)\n",
        "        score = score / np.sqrt(self.num_inputs)                  # (B X num_inputs X hidden_dim)\n",
        "        score = score.permute(0,2,1)                        # (B X num_inputs X 1)\n",
        "        return score\n",
        "\n",
        "\n",
        "    def forward(self, x, query):\n",
        "        query = query.unsqueeze(1) # (B x input_dim) -> (B x 1 x input_dim)\n",
        "\n",
        "        # Calculate attention scores\n",
        "        output = self.scoring_dotproduct(query, x)\n",
        "        output = output.squeeze()       # (B x 1 x num_inputs) -> (B x num_inputs)\n",
        "        return output"
      ]
    },
    {
      "cell_type": "code",
      "source": [
        "input_dim, num_inputs, hidden_dim = (784, 10, 256)\n",
        "\n",
        "model = AttentionModelDot(input_dim, num_inputs, hidden_dim)\n",
        "print(model)"
      ],
      "metadata": {
        "id": "2si212s69wiF",
        "colab": {
          "base_uri": "https://localhost:8080/"
        },
        "outputId": "54bbf6d0-91a3-44d3-b782-9cb00a7fd261"
      },
      "execution_count": 39,
      "outputs": [
        {
          "output_type": "stream",
          "name": "stdout",
          "text": [
            "AttentionModelDot(\n",
            "  (fc_q): Linear(in_features=784, out_features=256, bias=True)\n",
            "  (fc_k): Linear(in_features=784, out_features=256, bias=True)\n",
            "  (fc_v): Linear(in_features=256, out_features=1, bias=True)\n",
            ")\n"
          ]
        }
      ]
    },
    {
      "cell_type": "code",
      "source": [
        "model = model.to(device)\n",
        "\n",
        "optimizer = optim.Adam(model.parameters())\n",
        "\n",
        "criterion = nn.CrossEntropyLoss()\n",
        "\n",
        "epochs = 10\n",
        "\n",
        "loss_history = []\n",
        "for epoch in range(1, epochs + 1):\n",
        "    loss_values = train(model, device, train_loader, criterion, optimizer, epoch)\n",
        "    loss_history += loss_values"
      ],
      "metadata": {
        "id": "LckJfMsR9ouF",
        "colab": {
          "base_uri": "https://localhost:8080/"
        },
        "outputId": "97003300-88c3-4737-808b-c27b2fdcda9e"
      },
      "execution_count": 40,
      "outputs": [
        {
          "output_type": "stream",
          "name": "stdout",
          "text": [
            "Train Epoch: 1 [0/60000 (0%)]\tLoss: 2.296962\n",
            "Train Epoch: 1 [6400/60000 (11%)]\tLoss: 1.131624\n",
            "Train Epoch: 1 [12800/60000 (21%)]\tLoss: 0.755826\n",
            "Train Epoch: 1 [19200/60000 (32%)]\tLoss: 0.625699\n",
            "Train Epoch: 1 [25600/60000 (43%)]\tLoss: 0.791336\n",
            "Train Epoch: 1 [32000/60000 (53%)]\tLoss: 0.529936\n",
            "Train Epoch: 1 [38400/60000 (64%)]\tLoss: 0.418669\n",
            "Train Epoch: 1 [44800/60000 (75%)]\tLoss: 0.437348\n",
            "Train Epoch: 1 [51200/60000 (85%)]\tLoss: 1.017412\n",
            "Train Epoch: 1 [57600/60000 (96%)]\tLoss: 0.344272\n",
            "Train Epoch: 2 [0/60000 (0%)]\tLoss: 0.393950\n",
            "Train Epoch: 2 [6400/60000 (11%)]\tLoss: 0.366241\n",
            "Train Epoch: 2 [12800/60000 (21%)]\tLoss: 0.230453\n",
            "Train Epoch: 2 [19200/60000 (32%)]\tLoss: 0.314647\n",
            "Train Epoch: 2 [25600/60000 (43%)]\tLoss: 0.330486\n",
            "Train Epoch: 2 [32000/60000 (53%)]\tLoss: 0.242684\n",
            "Train Epoch: 2 [38400/60000 (64%)]\tLoss: 0.215946\n",
            "Train Epoch: 2 [44800/60000 (75%)]\tLoss: 0.327986\n",
            "Train Epoch: 2 [51200/60000 (85%)]\tLoss: 0.357560\n",
            "Train Epoch: 2 [57600/60000 (96%)]\tLoss: 0.253977\n",
            "Train Epoch: 3 [0/60000 (0%)]\tLoss: 0.255947\n",
            "Train Epoch: 3 [6400/60000 (11%)]\tLoss: 0.413420\n",
            "Train Epoch: 3 [12800/60000 (21%)]\tLoss: 0.235185\n",
            "Train Epoch: 3 [19200/60000 (32%)]\tLoss: 0.224191\n",
            "Train Epoch: 3 [25600/60000 (43%)]\tLoss: 0.249466\n",
            "Train Epoch: 3 [32000/60000 (53%)]\tLoss: 0.328808\n",
            "Train Epoch: 3 [38400/60000 (64%)]\tLoss: 0.253566\n",
            "Train Epoch: 3 [44800/60000 (75%)]\tLoss: 0.192882\n",
            "Train Epoch: 3 [51200/60000 (85%)]\tLoss: 0.148020\n",
            "Train Epoch: 3 [57600/60000 (96%)]\tLoss: 0.225491\n",
            "Train Epoch: 4 [0/60000 (0%)]\tLoss: 0.256412\n",
            "Train Epoch: 4 [6400/60000 (11%)]\tLoss: 0.149557\n",
            "Train Epoch: 4 [12800/60000 (21%)]\tLoss: 0.217468\n",
            "Train Epoch: 4 [19200/60000 (32%)]\tLoss: 0.124339\n",
            "Train Epoch: 4 [25600/60000 (43%)]\tLoss: 0.304312\n",
            "Train Epoch: 4 [32000/60000 (53%)]\tLoss: 0.229905\n",
            "Train Epoch: 4 [38400/60000 (64%)]\tLoss: 0.098798\n",
            "Train Epoch: 4 [44800/60000 (75%)]\tLoss: 0.369152\n",
            "Train Epoch: 4 [51200/60000 (85%)]\tLoss: 0.189176\n",
            "Train Epoch: 4 [57600/60000 (96%)]\tLoss: 0.445249\n",
            "Train Epoch: 5 [0/60000 (0%)]\tLoss: 0.092885\n",
            "Train Epoch: 5 [6400/60000 (11%)]\tLoss: 0.190028\n",
            "Train Epoch: 5 [12800/60000 (21%)]\tLoss: 0.091731\n",
            "Train Epoch: 5 [19200/60000 (32%)]\tLoss: 0.260780\n",
            "Train Epoch: 5 [25600/60000 (43%)]\tLoss: 0.113452\n",
            "Train Epoch: 5 [32000/60000 (53%)]\tLoss: 0.162937\n",
            "Train Epoch: 5 [38400/60000 (64%)]\tLoss: 0.155249\n",
            "Train Epoch: 5 [44800/60000 (75%)]\tLoss: 0.101309\n",
            "Train Epoch: 5 [51200/60000 (85%)]\tLoss: 0.294494\n",
            "Train Epoch: 5 [57600/60000 (96%)]\tLoss: 0.107214\n",
            "Train Epoch: 6 [0/60000 (0%)]\tLoss: 0.166158\n",
            "Train Epoch: 6 [6400/60000 (11%)]\tLoss: 0.176474\n",
            "Train Epoch: 6 [12800/60000 (21%)]\tLoss: 0.153246\n",
            "Train Epoch: 6 [19200/60000 (32%)]\tLoss: 0.167293\n",
            "Train Epoch: 6 [25600/60000 (43%)]\tLoss: 0.130551\n",
            "Train Epoch: 6 [32000/60000 (53%)]\tLoss: 0.231866\n",
            "Train Epoch: 6 [38400/60000 (64%)]\tLoss: 0.103522\n",
            "Train Epoch: 6 [44800/60000 (75%)]\tLoss: 0.386574\n",
            "Train Epoch: 6 [51200/60000 (85%)]\tLoss: 0.280804\n",
            "Train Epoch: 6 [57600/60000 (96%)]\tLoss: 0.234161\n",
            "Train Epoch: 7 [0/60000 (0%)]\tLoss: 0.070434\n",
            "Train Epoch: 7 [6400/60000 (11%)]\tLoss: 0.181739\n",
            "Train Epoch: 7 [12800/60000 (21%)]\tLoss: 0.109073\n",
            "Train Epoch: 7 [19200/60000 (32%)]\tLoss: 0.176189\n",
            "Train Epoch: 7 [25600/60000 (43%)]\tLoss: 0.174340\n",
            "Train Epoch: 7 [32000/60000 (53%)]\tLoss: 0.070418\n",
            "Train Epoch: 7 [38400/60000 (64%)]\tLoss: 0.040073\n",
            "Train Epoch: 7 [44800/60000 (75%)]\tLoss: 0.247051\n",
            "Train Epoch: 7 [51200/60000 (85%)]\tLoss: 0.110676\n",
            "Train Epoch: 7 [57600/60000 (96%)]\tLoss: 0.210710\n",
            "Train Epoch: 8 [0/60000 (0%)]\tLoss: 0.064869\n",
            "Train Epoch: 8 [6400/60000 (11%)]\tLoss: 0.325729\n",
            "Train Epoch: 8 [12800/60000 (21%)]\tLoss: 0.306995\n",
            "Train Epoch: 8 [19200/60000 (32%)]\tLoss: 0.067290\n",
            "Train Epoch: 8 [25600/60000 (43%)]\tLoss: 0.129588\n",
            "Train Epoch: 8 [32000/60000 (53%)]\tLoss: 0.142979\n",
            "Train Epoch: 8 [38400/60000 (64%)]\tLoss: 0.057080\n",
            "Train Epoch: 8 [44800/60000 (75%)]\tLoss: 0.085427\n",
            "Train Epoch: 8 [51200/60000 (85%)]\tLoss: 0.233675\n",
            "Train Epoch: 8 [57600/60000 (96%)]\tLoss: 0.169920\n",
            "Train Epoch: 9 [0/60000 (0%)]\tLoss: 0.121788\n",
            "Train Epoch: 9 [6400/60000 (11%)]\tLoss: 0.131896\n",
            "Train Epoch: 9 [12800/60000 (21%)]\tLoss: 0.118420\n",
            "Train Epoch: 9 [19200/60000 (32%)]\tLoss: 0.092897\n",
            "Train Epoch: 9 [25600/60000 (43%)]\tLoss: 0.212552\n",
            "Train Epoch: 9 [32000/60000 (53%)]\tLoss: 0.070193\n",
            "Train Epoch: 9 [38400/60000 (64%)]\tLoss: 0.255944\n",
            "Train Epoch: 9 [44800/60000 (75%)]\tLoss: 0.086625\n",
            "Train Epoch: 9 [51200/60000 (85%)]\tLoss: 0.047300\n",
            "Train Epoch: 9 [57600/60000 (96%)]\tLoss: 0.139823\n",
            "Train Epoch: 10 [0/60000 (0%)]\tLoss: 0.064053\n",
            "Train Epoch: 10 [6400/60000 (11%)]\tLoss: 0.101484\n",
            "Train Epoch: 10 [12800/60000 (21%)]\tLoss: 0.126208\n",
            "Train Epoch: 10 [19200/60000 (32%)]\tLoss: 0.101112\n",
            "Train Epoch: 10 [25600/60000 (43%)]\tLoss: 0.154818\n",
            "Train Epoch: 10 [32000/60000 (53%)]\tLoss: 0.122983\n",
            "Train Epoch: 10 [38400/60000 (64%)]\tLoss: 0.073601\n",
            "Train Epoch: 10 [44800/60000 (75%)]\tLoss: 0.086038\n",
            "Train Epoch: 10 [51200/60000 (85%)]\tLoss: 0.044330\n",
            "Train Epoch: 10 [57600/60000 (96%)]\tLoss: 0.246697\n"
          ]
        }
      ]
    },
    {
      "cell_type": "code",
      "source": [
        "plt.plot(loss_history)"
      ],
      "metadata": {
        "id": "OR0WEn9S_tG_",
        "colab": {
          "base_uri": "https://localhost:8080/",
          "height": 447
        },
        "outputId": "ccbdae64-292b-4800-92d9-871d8e389402"
      },
      "execution_count": 41,
      "outputs": [
        {
          "output_type": "execute_result",
          "data": {
            "text/plain": [
              "[<matplotlib.lines.Line2D at 0x7ab206cc4460>]"
            ]
          },
          "metadata": {},
          "execution_count": 41
        },
        {
          "output_type": "display_data",
          "data": {
            "text/plain": [
              "<Figure size 640x480 with 1 Axes>"
            ],
            "image/png": "[encoded data removed]"
          },
          "metadata": {}
        }
      ]
    },
    {
      "cell_type": "code",
      "source": [
        "evaluate(model, device, test_loader)"
      ],
      "metadata": {
        "colab": {
          "base_uri": "https://localhost:8080/"
        },
        "id": "x-ioA-W3sPxu",
        "outputId": "9d020ea3-b0ae-45ca-8653-d5db5a1d1a27"
      },
      "execution_count": 42,
      "outputs": [
        {
          "output_type": "stream",
          "name": "stdout",
          "text": [
            "Accuracy =  94.97\n"
          ]
        }
      ]
    }
  ],
  "metadata": {
    "accelerator": "GPU",
    "colab": {
      "provenance": [],
      "gpuType": "T4"
    },
    "kernelspec": {
      "display_name": "pytorch",
      "language": "python",
      "name": "pytorch"
    },
    "language_info": {
      "codemirror_mode": {
        "name": "ipython",
        "version": 3
      },
      "file_extension": ".py",
      "mimetype": "text/x-python",
      "name": "python",
      "nbconvert_exporter": "python",
      "pygments_lexer": "ipython3",
      "version": "3.9.16"
    }
  },
  "nbformat": 4,
  "nbformat_minor": 0
}